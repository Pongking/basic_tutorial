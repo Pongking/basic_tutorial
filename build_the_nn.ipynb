{
 "cells": [
  {
   "cell_type": "code",
   "execution_count": 1,
   "metadata": {},
   "outputs": [],
   "source": [
    "import os\n",
    "import torch\n",
    "from torch import nn\n",
    "from torch.utils.data import DataLoader\n",
    "from torchvision import datasets,transforms"
   ]
  },
  {
   "cell_type": "code",
   "execution_count": 2,
   "metadata": {},
   "outputs": [
    {
     "name": "stdout",
     "output_type": "stream",
     "text": [
      "cuda\n"
     ]
    }
   ],
   "source": [
    "device=(\"cuda\")\n",
    "print(device)"
   ]
  },
  {
   "cell_type": "code",
   "execution_count": 3,
   "metadata": {},
   "outputs": [],
   "source": [
    "class NeuralNetwork(nn.Module):\n",
    "    def __init__(self):\n",
    "        super().__init__()\n",
    "        self.flatten = nn.Flatten()\n",
    "        self.linear_relu_stack = nn.Sequential(\n",
    "            nn.Linear(28*28, 512),\n",
    "            nn.ReLU(),\n",
    "            nn.Linear(512, 512),\n",
    "            nn.ReLU(),\n",
    "            nn.Linear(512, 10),\n",
    "        )\n",
    "\n",
    "    def forward(self, x):\n",
    "        x = self.flatten(x)\n",
    "        logits = self.linear_relu_stack(x)\n",
    "        return logits"
   ]
  },
  {
   "cell_type": "code",
   "execution_count": 4,
   "metadata": {},
   "outputs": [
    {
     "data": {
      "text/plain": [
       "NeuralNetwork(\n",
       "  (flatten): Flatten(start_dim=1, end_dim=-1)\n",
       "  (linear_relu_stack): Sequential(\n",
       "    (0): Linear(in_features=784, out_features=512, bias=True)\n",
       "    (1): ReLU()\n",
       "    (2): Linear(in_features=512, out_features=512, bias=True)\n",
       "    (3): ReLU()\n",
       "    (4): Linear(in_features=512, out_features=10, bias=True)\n",
       "  )\n",
       ")"
      ]
     },
     "execution_count": 4,
     "metadata": {},
     "output_type": "execute_result"
    }
   ],
   "source": [
    "model=NeuralNetwork().to(device)\n",
    "model"
   ]
  },
  {
   "cell_type": "code",
   "execution_count": 8,
   "metadata": {},
   "outputs": [
    {
     "name": "stdout",
     "output_type": "stream",
     "text": [
      "Output of model is: tensor([[-0.0636,  0.1183, -0.0008,  0.0389,  0.0498, -0.0687, -0.0993,  0.0164,\n",
      "         -0.0739,  0.0416]], device='cuda:0', grad_fn=<AddmmBackward0>)\n",
      "Probability of output is: tensor([[0.0940, 0.1128, 0.1001, 0.1042, 0.1053, 0.0935, 0.0907, 0.1018, 0.0931,\n",
      "         0.1044]], device='cuda:0', grad_fn=<SoftmaxBackward0>)\n",
      "Predicted class: 1\n"
     ]
    }
   ],
   "source": [
    "x=torch.rand(1,28,28,device=device)\n",
    "logits=model(x)\n",
    "print(f\"Output of model is: {logits}\")\n",
    "pred_probab=nn.Softmax(dim=1)(logits)\n",
    "print(f\"Probability of output is: {pred_probab}\")\n",
    "pred=pred_probab.argmax(1)\n",
    "print(f\"Predicted class: {pred.item()}\")"
   ]
  },
  {
   "cell_type": "code",
   "execution_count": 9,
   "metadata": {},
   "outputs": [
    {
     "name": "stdout",
     "output_type": "stream",
     "text": [
      "tensor([[ 1.7148,  1.2693,  0.3414],\n",
      "        [-0.7822,  0.8762, -0.6213]])\n",
      "tensor([[0.5281, 0.3382, 0.1337],\n",
      "        [0.1347, 0.7072, 0.1582]])\n"
     ]
    }
   ],
   "source": [
    "# m=nn.Softmax(dim=1)\n",
    "# input1=torch.randn(2,3)\n",
    "# print(input1)\n",
    "# print(m(input1))"
   ]
  },
  {
   "cell_type": "code",
   "execution_count": 12,
   "metadata": {},
   "outputs": [
    {
     "name": "stdout",
     "output_type": "stream",
     "text": [
      "torch.Size([3, 784])\n"
     ]
    }
   ],
   "source": [
    "input_image=torch.rand(3,28,28)\n",
    "# Flatten\n",
    "#We initialize the nn.Flatten layer to convert each 2D 28x28 image into a contiguous array of 784 pixel values\n",
    "flatten=nn.Flatten()\n",
    "flat_image=flatten(input_image)\n",
    "print(flat_image.size())"
   ]
  },
  {
   "cell_type": "code",
   "execution_count": 13,
   "metadata": {},
   "outputs": [
    {
     "name": "stdout",
     "output_type": "stream",
     "text": [
      "torch.Size([3, 20])\n"
     ]
    }
   ],
   "source": [
    "#The linear layer is a module that applies a linear transformation on the input using its stored weights and biases.\n",
    "layer1=nn.Linear(in_features=28*28,out_features=20)\n",
    "hidden1=layer1(flat_image)\n",
    "print(hidden1.size())"
   ]
  },
  {
   "cell_type": "code",
   "execution_count": 14,
   "metadata": {},
   "outputs": [
    {
     "name": "stdout",
     "output_type": "stream",
     "text": [
      "Before ReLU: tensor([[ 0.2097,  0.1393,  0.7525,  0.4721, -0.4186,  0.2671,  0.4827, -0.4227,\n",
      "         -0.0658, -0.5404,  0.2956, -0.6622, -0.4143,  0.0202,  0.2811,  0.6991,\n",
      "          0.2598,  0.4161,  0.0369, -0.0701],\n",
      "        [-0.0184,  0.1485,  0.1975,  0.3544, -0.3395,  0.2417,  0.1811, -0.0210,\n",
      "         -0.0544, -0.2313, -0.1825, -0.2954, -0.4157, -0.0251,  0.1087,  0.6022,\n",
      "         -0.1316,  0.2593, -0.2174,  0.2928],\n",
      "        [-0.0825,  0.0788,  0.7966,  0.7166, -0.3710, -0.0398,  0.3695, -0.2818,\n",
      "         -0.1118, -0.3037,  0.0022, -0.9169, -0.0216,  0.3939,  0.0483,  0.1586,\n",
      "         -0.0533,  0.4616, -0.2868,  0.1881]], grad_fn=<AddmmBackward0>)\n",
      "After ReLU: tensor([[0.2097, 0.1393, 0.7525, 0.4721, 0.0000, 0.2671, 0.4827, 0.0000, 0.0000,\n",
      "         0.0000, 0.2956, 0.0000, 0.0000, 0.0202, 0.2811, 0.6991, 0.2598, 0.4161,\n",
      "         0.0369, 0.0000],\n",
      "        [0.0000, 0.1485, 0.1975, 0.3544, 0.0000, 0.2417, 0.1811, 0.0000, 0.0000,\n",
      "         0.0000, 0.0000, 0.0000, 0.0000, 0.0000, 0.1087, 0.6022, 0.0000, 0.2593,\n",
      "         0.0000, 0.2928],\n",
      "        [0.0000, 0.0788, 0.7966, 0.7166, 0.0000, 0.0000, 0.3695, 0.0000, 0.0000,\n",
      "         0.0000, 0.0022, 0.0000, 0.0000, 0.3939, 0.0483, 0.1586, 0.0000, 0.4616,\n",
      "         0.0000, 0.1881]], grad_fn=<ReluBackward0>)\n"
     ]
    }
   ],
   "source": [
    "'''\n",
    "Non-linear activations are what create the complex mappings between the model’s inputs and outputs.\n",
    "They are applied after linear transformations to introduce nonlinearity, \n",
    "helping neural networks learn a wide variety of phenomena\n",
    "'''\n",
    "print(f\"Before ReLU: {hidden1}\")\n",
    "hidden1=nn.ReLU()(hidden1)\n",
    "print(f\"After ReLU: {hidden1}\")"
   ]
  },
  {
   "cell_type": "code",
   "execution_count": 19,
   "metadata": {},
   "outputs": [
    {
     "data": {
      "text/plain": [
       "tensor([[ 1.1187e-01, -4.3746e-02,  2.9669e-02, -2.8039e-02,  7.5639e-02,\n",
       "         -1.5472e-01,  2.2069e-04,  4.4456e-02,  8.7867e-02, -3.4805e-01],\n",
       "        [ 1.7630e-01, -3.3110e-02, -4.4534e-03,  2.9763e-02,  1.2371e-01,\n",
       "         -1.3249e-01, -3.1712e-02,  3.7302e-02,  7.4706e-02, -4.3073e-01],\n",
       "        [ 7.2892e-02, -2.1234e-01, -4.1789e-03, -5.0202e-03,  1.2049e-01,\n",
       "         -1.0709e-01, -5.9611e-02,  1.5952e-01,  8.1887e-02, -4.6853e-01]],\n",
       "       grad_fn=<AddmmBackward0>)"
      ]
     },
     "execution_count": 19,
     "metadata": {},
     "output_type": "execute_result"
    }
   ],
   "source": [
    "seq_modules=nn.Sequential(\n",
    "     flatten,\n",
    "     layer1,\n",
    "     nn.ReLU(),\n",
    "     nn.Linear(20,10)\n",
    ")\n",
    "input_image=torch.rand(3,28,28)\n",
    "logits=seq_modules(input_image)\n",
    "logits"
   ]
  },
  {
   "cell_type": "code",
   "execution_count": 18,
   "metadata": {},
   "outputs": [
    {
     "data": {
      "text/plain": [
       "tensor([[0.1151, 0.1260, 0.0742, 0.0861, 0.0811, 0.0802, 0.1165, 0.1068, 0.1089,\n",
       "         0.1050],\n",
       "        [0.1324, 0.1294, 0.0761, 0.0966, 0.0711, 0.0809, 0.0940, 0.1267, 0.1045,\n",
       "         0.0883],\n",
       "        [0.1180, 0.1348, 0.0680, 0.0995, 0.0762, 0.0802, 0.1081, 0.1135, 0.1136,\n",
       "         0.0882]], grad_fn=<SoftmaxBackward0>)"
      ]
     },
     "execution_count": 18,
     "metadata": {},
     "output_type": "execute_result"
    }
   ],
   "source": [
    "softmax=nn.Softmax(dim=1)\n",
    "pred_probab=softmax(logits)\n",
    "pred_probab"
   ]
  },
  {
   "cell_type": "code",
   "execution_count": 20,
   "metadata": {},
   "outputs": [
    {
     "data": {
      "text/plain": [
       "tensor([1, 0, 1])"
      ]
     },
     "execution_count": 20,
     "metadata": {},
     "output_type": "execute_result"
    }
   ],
   "source": [
    "pred_probab.argmax(1)"
   ]
  },
  {
   "cell_type": "code",
   "execution_count": 21,
   "metadata": {},
   "outputs": [
    {
     "name": "stdout",
     "output_type": "stream",
     "text": [
      "Model structure: NeuralNetwork(\n",
      "  (flatten): Flatten(start_dim=1, end_dim=-1)\n",
      "  (linear_relu_stack): Sequential(\n",
      "    (0): Linear(in_features=784, out_features=512, bias=True)\n",
      "    (1): ReLU()\n",
      "    (2): Linear(in_features=512, out_features=512, bias=True)\n",
      "    (3): ReLU()\n",
      "    (4): Linear(in_features=512, out_features=10, bias=True)\n",
      "  )\n",
      ")\n",
      "\n",
      "Layer: linear_relu_stack.0.weight| Size: torch.Size([512, 784])| Values: tensor([[ 0.0146, -0.0249,  0.0315,  ..., -0.0195, -0.0096, -0.0006],\n",
      "        [ 0.0005, -0.0346,  0.0045,  ..., -0.0061, -0.0315, -0.0064]],\n",
      "       device='cuda:0', grad_fn=<SliceBackward0>)\n",
      "\n",
      "Layer: linear_relu_stack.0.bias| Size: torch.Size([512])| Values: tensor([0.0070, 0.0059], device='cuda:0', grad_fn=<SliceBackward0>)\n",
      "\n",
      "Layer: linear_relu_stack.2.weight| Size: torch.Size([512, 512])| Values: tensor([[-0.0247,  0.0055,  0.0085,  ..., -0.0036,  0.0368,  0.0168],\n",
      "        [-0.0417, -0.0036,  0.0214,  ..., -0.0261,  0.0283,  0.0252]],\n",
      "       device='cuda:0', grad_fn=<SliceBackward0>)\n",
      "\n",
      "Layer: linear_relu_stack.2.bias| Size: torch.Size([512])| Values: tensor([-0.0338,  0.0211], device='cuda:0', grad_fn=<SliceBackward0>)\n",
      "\n",
      "Layer: linear_relu_stack.4.weight| Size: torch.Size([10, 512])| Values: tensor([[ 0.0243, -0.0185, -0.0129,  ...,  0.0181, -0.0343, -0.0185],\n",
      "        [-0.0339,  0.0305, -0.0424,  ...,  0.0084,  0.0052, -0.0339]],\n",
      "       device='cuda:0', grad_fn=<SliceBackward0>)\n",
      "\n",
      "Layer: linear_relu_stack.4.bias| Size: torch.Size([10])| Values: tensor([-0.0249,  0.0262], device='cuda:0', grad_fn=<SliceBackward0>)\n",
      "\n"
     ]
    }
   ],
   "source": [
    "print(f\"Model structure: {model}\\n\")\n",
    "for name,param in model.named_parameters():\n",
    "    print(f\"Layer: {name}| Size: {param.size()}| Values: {param[:2]}\\n\")"
   ]
  },
  {
   "cell_type": "code",
   "execution_count": null,
   "metadata": {},
   "outputs": [],
   "source": []
  }
 ],
 "metadata": {
  "kernelspec": {
   "display_name": "distill_data",
   "language": "python",
   "name": "python3"
  },
  "language_info": {
   "codemirror_mode": {
    "name": "ipython",
    "version": 3
   },
   "file_extension": ".py",
   "mimetype": "text/x-python",
   "name": "python",
   "nbconvert_exporter": "python",
   "pygments_lexer": "ipython3",
   "version": "3.11.6"
  }
 },
 "nbformat": 4,
 "nbformat_minor": 2
}
