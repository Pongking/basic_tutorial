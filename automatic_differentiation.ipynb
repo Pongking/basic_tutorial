{
 "cells": [
  {
   "cell_type": "code",
   "execution_count": 24,
   "metadata": {},
   "outputs": [],
   "source": [
    "import torch\n",
    "\n",
    "x=torch.ones(5)\n",
    "y=torch.zeros(3)\n",
    "w=torch.randn(5,3,requires_grad=True)\n",
    "b=torch.randn(3,requires_grad=True)\n",
    "z=torch.matmul(x,w)+b\n",
    "loss=torch.nn.functional.binary_cross_entropy_with_logits(z,y)"
   ]
  },
  {
   "cell_type": "code",
   "execution_count": 25,
   "metadata": {},
   "outputs": [
    {
     "data": {
      "text/plain": [
       "tensor(0.6355, grad_fn=<BinaryCrossEntropyWithLogitsBackward0>)"
      ]
     },
     "execution_count": 25,
     "metadata": {},
     "output_type": "execute_result"
    }
   ],
   "source": [
    "loss"
   ]
  },
  {
   "cell_type": "code",
   "execution_count": 26,
   "metadata": {},
   "outputs": [
    {
     "name": "stdout",
     "output_type": "stream",
     "text": [
      "Gradient function for z=<AddBackward0 object at 0x7f7dc26a9330>\n",
      "Gradient function for loss=<BinaryCrossEntropyWithLogitsBackward0 object at 0x7f7dc26a92d0>\n"
     ]
    }
   ],
   "source": [
    "print(f\"Gradient function for z={z.grad_fn}\")\n",
    "print(f\"Gradient function for loss={loss.grad_fn}\")"
   ]
  },
  {
   "cell_type": "code",
   "execution_count": 27,
   "metadata": {},
   "outputs": [
    {
     "name": "stdout",
     "output_type": "stream",
     "text": [
      "Gradient of w is tensor([[0.0780, 0.2381, 0.1070],\n",
      "        [0.0780, 0.2381, 0.1070],\n",
      "        [0.0780, 0.2381, 0.1070],\n",
      "        [0.0780, 0.2381, 0.1070],\n",
      "        [0.0780, 0.2381, 0.1070]])\n",
      "Gradient of b is tensor([0.0780, 0.2381, 0.1070])\n"
     ]
    }
   ],
   "source": [
    "loss.backward()\n",
    "print(f\"Gradient of w is {w.grad}\")\n",
    "print(f\"Gradient of b is {b.grad}\")"
   ]
  },
  {
   "cell_type": "code",
   "execution_count": 28,
   "metadata": {},
   "outputs": [
    {
     "name": "stdout",
     "output_type": "stream",
     "text": [
      "True\n",
      "False\n"
     ]
    }
   ],
   "source": [
    "z=torch.matmul(x,w)+b\n",
    "print(z.requires_grad)\n",
    "with torch.no_grad():\n",
    "    z=torch.matmul(x,w)+b\n",
    "print(z.requires_grad)"
   ]
  },
  {
   "cell_type": "code",
   "execution_count": 30,
   "metadata": {},
   "outputs": [
    {
     "name": "stdout",
     "output_type": "stream",
     "text": [
      "True\n",
      "False\n"
     ]
    }
   ],
   "source": [
    "z=torch.matmul(x,w)+b\n",
    "#detach for mark some parameters as frozen parameters\n",
    "#speed up computations\n",
    "z_det=z.detach()\n",
    "print(z.requires_grad)\n",
    "print(z_det.requires_grad)"
   ]
  },
  {
   "cell_type": "code",
   "execution_count": 77,
   "metadata": {},
   "outputs": [
    {
     "name": "stdout",
     "output_type": "stream",
     "text": [
      "inp :\n",
      " tensor([[1., 0., 0., 0., 0.],\n",
      "        [0., 1., 0., 0., 0.],\n",
      "        [0., 0., 1., 0., 0.],\n",
      "        [0., 0., 0., 1., 0.]], requires_grad=True)\n",
      "output : \n",
      "tensor([[4., 1., 1., 1.],\n",
      "        [1., 4., 1., 1.],\n",
      "        [1., 1., 4., 1.],\n",
      "        [1., 1., 1., 4.],\n",
      "        [1., 1., 1., 1.]], grad_fn=<TBackward0>)\n",
      "torch one like is\n",
      "tensor([[1., 1., 1., 1.],\n",
      "        [1., 1., 1., 1.],\n",
      "        [1., 1., 1., 1.],\n",
      "        [1., 1., 1., 1.],\n",
      "        [1., 1., 1., 1.]])\n",
      "First call\n",
      " tensor([[4., 2., 2., 2., 2.],\n",
      "        [2., 4., 2., 2., 2.],\n",
      "        [2., 2., 4., 2., 2.],\n",
      "        [2., 2., 2., 4., 2.]])\n",
      "Second call\n",
      " tensor([[8., 4., 4., 4., 4.],\n",
      "        [4., 8., 4., 4., 4.],\n",
      "        [4., 4., 8., 4., 4.],\n",
      "        [4., 4., 4., 8., 4.]])\n",
      "tensor([[4., 2., 2., 2., 2.],\n",
      "        [2., 4., 2., 2., 2.],\n",
      "        [2., 2., 4., 2., 2.],\n",
      "        [2., 2., 2., 4., 2.]])\n"
     ]
    }
   ],
   "source": [
    "inp=torch.eye(4,5,requires_grad=True)\n",
    "out=(inp+1).pow(2).t()\n",
    "print(f\"inp :\\n {inp}\")\n",
    "print(f\"output : \\n{out}\")\n",
    "print(f\"torch one like is\\n{torch.ones_like(out)}\")\n",
    "#backward: the first argument represent the scaling factor\n",
    "out.backward(torch.ones_like(out),retain_graph=True)\n",
    "print(f\"First call\\n {inp.grad}\")\n",
    "out.backward(torch.ones_like(out),retain_graph=True)\n",
    "print(f\"Second call\\n {inp.grad}\")\n",
    "#because when doing backward propagation,torch will accumulates the gradients\n",
    "inp.grad.zero_()\n",
    "out.backward(torch.ones_like(out),retain_graph=True)\n",
    "print(inp.grad)"
   ]
  },
  {
   "cell_type": "code",
   "execution_count": null,
   "metadata": {},
   "outputs": [],
   "source": []
  }
 ],
 "metadata": {
  "kernelspec": {
   "display_name": "distill_data",
   "language": "python",
   "name": "python3"
  },
  "language_info": {
   "codemirror_mode": {
    "name": "ipython",
    "version": 3
   },
   "file_extension": ".py",
   "mimetype": "text/x-python",
   "name": "python",
   "nbconvert_exporter": "python",
   "pygments_lexer": "ipython3",
   "version": "3.11.6"
  }
 },
 "nbformat": 4,
 "nbformat_minor": 2
}
